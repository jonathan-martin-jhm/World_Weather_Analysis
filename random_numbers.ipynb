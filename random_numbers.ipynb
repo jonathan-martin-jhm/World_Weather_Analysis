{
 "cells": [
  {
   "cell_type": "code",
   "execution_count": 1,
   "id": "017fefab",
   "metadata": {},
   "outputs": [],
   "source": [
    "# Import the random module.\n",
    "import random"
   ]
  },
  {
   "cell_type": "code",
   "execution_count": 2,
   "id": "c5d30e15",
   "metadata": {},
   "outputs": [
    {
     "data": {
      "text/plain": [
       "63"
      ]
     },
     "execution_count": 2,
     "metadata": {},
     "output_type": "execute_result"
    }
   ],
   "source": [
    "# random integer\n",
    "random.randint(-90, 90)"
   ]
  },
  {
   "cell_type": "code",
   "execution_count": 3,
   "id": "157f4bc1",
   "metadata": {},
   "outputs": [
    {
     "data": {
      "text/plain": [
       "0.3296490650158448"
      ]
     },
     "execution_count": 3,
     "metadata": {},
     "output_type": "execute_result"
    }
   ],
   "source": [
    "# random function, a single floating point decimal between 0 and 1.0\n",
    "random.random()"
   ]
  },
  {
   "cell_type": "code",
   "execution_count": 5,
   "id": "07a33aee",
   "metadata": {},
   "outputs": [
    {
     "data": {
      "text/plain": [
       "63.496266904520255"
      ]
     },
     "execution_count": 5,
     "metadata": {},
     "output_type": "execute_result"
    }
   ],
   "source": [
    "# Combining functions\n",
    "random_number = random.randint(-90, 89) + random.random()\n",
    "random_number"
   ]
  },
  {
   "cell_type": "code",
   "execution_count": 9,
   "id": "4eb41865",
   "metadata": {},
   "outputs": [
    {
     "data": {
      "text/plain": [
       "[64.19707286361579,\n",
       " 88.77644750749202,\n",
       " 84.87233024331151,\n",
       " 7.717731593140161,\n",
       " 75.69860401389606,\n",
       " 77.59559936744712,\n",
       " 11.332111391933505,\n",
       " 34.10648646235945,\n",
       " 52.10341577031884,\n",
       " 51.51882677405977]"
      ]
     },
     "execution_count": 9,
     "metadata": {},
     "output_type": "execute_result"
    }
   ],
   "source": [
    "# Create a while loop where we generate a random latitude and add it to the list\n",
    "x = 1\n",
    "latitudes = []\n",
    "while x < 11:\n",
    "    random_lat = random.randint(-90, 89) + random.random()\n",
    "    latitudes.append(random_lat)\n",
    "    x += 1\n",
    "latitudes"
   ]
  },
  {
   "cell_type": "code",
   "execution_count": 10,
   "id": "cf965fc9",
   "metadata": {},
   "outputs": [
    {
     "data": {
      "text/plain": [
       "83"
      ]
     },
     "execution_count": 10,
     "metadata": {},
     "output_type": "execute_result"
    }
   ],
   "source": [
    "# randrange() function, random whole number within range\n",
    "random.randrange(-90, 90, step=1)"
   ]
  },
  {
   "cell_type": "code",
   "execution_count": 11,
   "id": "cb15fe6b",
   "metadata": {},
   "outputs": [
    {
     "data": {
      "text/plain": [
       "84"
      ]
     },
     "execution_count": 11,
     "metadata": {},
     "output_type": "execute_result"
    }
   ],
   "source": [
    "# randrange() function\n",
    "random.randrange(-90, 90, step=3)"
   ]
  },
  {
   "cell_type": "code",
   "execution_count": 12,
   "id": "0ba3da2d",
   "metadata": {},
   "outputs": [
    {
     "data": {
      "text/plain": [
       "21.358973072623556"
      ]
     },
     "execution_count": 12,
     "metadata": {},
     "output_type": "execute_result"
    }
   ],
   "source": [
    "# uniform() function, returns a floating-decimal number between the range\n",
    "random.uniform(-90, 90)"
   ]
  },
  {
   "cell_type": "code",
   "execution_count": 13,
   "id": "c05727c7",
   "metadata": {},
   "outputs": [],
   "source": [
    "# Import the NumPy module.\n",
    "import numpy as np"
   ]
  },
  {
   "cell_type": "code",
   "execution_count": 14,
   "id": "9868c06c",
   "metadata": {},
   "outputs": [
    {
     "data": {
      "text/plain": [
       "-35.460153801039596"
      ]
     },
     "execution_count": 14,
     "metadata": {},
     "output_type": "execute_result"
    }
   ],
   "source": [
    "# Generate floationg-point decimal between range\n",
    "np.random.uniform(-90.000, 90.000)"
   ]
  },
  {
   "cell_type": "code",
   "execution_count": 15,
   "id": "2b4b43bb",
   "metadata": {},
   "outputs": [
    {
     "data": {
      "text/plain": [
       "-10.939474246034564"
      ]
     },
     "execution_count": 15,
     "metadata": {},
     "output_type": "execute_result"
    }
   ],
   "source": [
    "# another option to write parameters\n",
    "np.random.uniform(low=-90, high=90)"
   ]
  },
  {
   "cell_type": "code",
   "execution_count": 16,
   "id": "ae4facee",
   "metadata": {},
   "outputs": [
    {
     "data": {
      "text/plain": [
       "array([-81.62015804, -11.7742025 , -78.4751629 ,  88.12704372,\n",
       "        73.515319  ,  27.07211768, -12.28775616, -72.12183992,\n",
       "       -47.99656744,  33.19676152,  23.35435206,  62.29298876,\n",
       "       -75.5461272 , -64.38169749,  67.66961605, -30.54428114,\n",
       "         1.02289139, -41.03643074,  43.43327345,  76.7892155 ,\n",
       "       -51.46751405,  76.0961077 , -58.05793038,  51.73827551,\n",
       "        67.5967659 ,  -9.32462794,  11.79905241,  61.66941048,\n",
       "        59.40432226, -28.70648913,  54.00031178,  -8.18831285,\n",
       "        17.18352033, -58.62688209,  26.2511016 ,  61.90879813,\n",
       "       -44.01254093, -64.39504704,  -8.4843784 , -40.59998305,\n",
       "        53.16317508,  -4.68398631, -32.65085099, -34.29304526,\n",
       "        -7.89102962, -68.79361661,  80.69018319,  57.6534934 ,\n",
       "        60.96079439, -16.98405063])"
      ]
     },
     "execution_count": 16,
     "metadata": {},
     "output_type": "execute_result"
    }
   ],
   "source": [
    "# Generate floationg-point decimal between range with Size #\n",
    "np.random.uniform(-90.000, 90.000, size=50)"
   ]
  },
  {
   "cell_type": "code",
   "execution_count": 17,
   "id": "97d6d975",
   "metadata": {},
   "outputs": [],
   "source": [
    "# Import timeit.\n",
    "import timeit"
   ]
  },
  {
   "cell_type": "code",
   "execution_count": 18,
   "id": "b5dfb2f5",
   "metadata": {},
   "outputs": [
    {
     "name": "stdout",
     "output_type": "stream",
     "text": [
      "10.7 µs ± 85.5 ns per loop (mean ± std. dev. of 7 runs, 100000 loops each)\n"
     ]
    }
   ],
   "source": [
    "# Test how long a piece of code or function takes with timeit\n",
    "%timeit np.random.uniform(-90.000, 90.000, size=1500)"
   ]
  },
  {
   "cell_type": "code",
   "execution_count": 19,
   "id": "bc6d2daa",
   "metadata": {},
   "outputs": [
    {
     "name": "stdout",
     "output_type": "stream",
     "text": [
      "1.21 ms ± 3.63 µs per loop (mean ± std. dev. of 7 runs, 1000 loops each)\n"
     ]
    }
   ],
   "source": [
    "# while loop function for 1500 latitudes\n",
    "def latitudes(size):\n",
    "    latitudes = []\n",
    "    x = 0\n",
    "    while x < (size):\n",
    "        random_lat = random.randint(-90, 90) + random.random()\n",
    "        latitudes.append(random_lat)\n",
    "        x += 1\n",
    "    return latitudes\n",
    "# Call the function with 1500.\n",
    "%timeit latitudes(1500)"
   ]
  },
  {
   "cell_type": "code",
   "execution_count": null,
   "id": "44836704",
   "metadata": {},
   "outputs": [],
   "source": []
  }
 ],
 "metadata": {
  "kernelspec": {
   "display_name": "Python 3 (ipykernel)",
   "language": "python",
   "name": "python3"
  },
  "language_info": {
   "codemirror_mode": {
    "name": "ipython",
    "version": 3
   },
   "file_extension": ".py",
   "mimetype": "text/x-python",
   "name": "python",
   "nbconvert_exporter": "python",
   "pygments_lexer": "ipython3",
   "version": "3.7.13"
  }
 },
 "nbformat": 4,
 "nbformat_minor": 5
}
